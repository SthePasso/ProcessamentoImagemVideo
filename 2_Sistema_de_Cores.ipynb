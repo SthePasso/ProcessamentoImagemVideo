{
  "nbformat": 4,
  "nbformat_minor": 0,
  "metadata": {
    "colab": {
      "name": "2 - Sistema de Cores",
      "provenance": []
    },
    "kernelspec": {
      "name": "python3",
      "display_name": "Python 3"
    },
    "language_info": {
      "name": "python"
    }
  },
  "cells": [
    {
      "cell_type": "markdown",
      "metadata": {
        "id": "_SO5KBbXwlHe"
      },
      "source": [
        "**Análise e tratamento de Imagens e Vídeos Digitais**\n",
        "> **Professora: Sthefanie Passo** "
      ]
    },
    {
      "cell_type": "markdown",
      "metadata": {
        "id": "wjoQC2njw8kg"
      },
      "source": [
        "## **Sistema de Cores**"
      ]
    },
    {
      "cell_type": "markdown",
      "metadata": {
        "id": "mmdqrL4gw9hT"
      },
      "source": [
        "> Luz - radiação eletromagnética que possui uma\n",
        "certa “energia” para cada comprimento de\n",
        "onda.\n",
        "\n",
        "> Comprimentos de onda percebidos pelo SVH\n",
        "vermelho (red), verde (green) e azul (blue)\n",
        "p RGB\n",
        "\n",
        "> O Cérebro humano processa em 2 canais:\n",
        "intensidade da luz (luminância) e diferenças de\n",
        "cor (crominância).\n",
        "\n",
        "Espectro Eletromagnético\n",
        "\n",
        "![alt text](https://estudodacor.files.wordpress.com/2014/08/espectro-eletromagnetico1.jpg)\n",
        "\n",
        "> Codificação mais comum: 1 byte para cada\n",
        "componente\n",
        "\n",
        "> Um byte permite 28 = 256 possibilidades, assumindo\n",
        "valores de 0 a 255.\n",
        "\n",
        "> Considerando 3 componentes (R, G, B) temos: 224 =\n",
        "16.777.216 possibilidades (os tais 16 milhões de\n",
        "cores)\n",
        "\n",
        "> O SVH percebe em torno de 400 mil cores\n",
        ">- 19 bits seriam suficientes\n",
        ">- 219 = 524.288 cores\n",
        "\n",
        "> Quantização com Menos de 24 bits\n",
        "\n",
        "> Economizar espaço em memória, agilizar\n",
        "processamento, etc.\n",
        "\n",
        "> substitui-se a cor do pixel por um índice para uma\n",
        "tabela de cores de 8 bits\n",
        "\n",
        "> quantização Uniforme é a mais simples\n",
        "\n",
        ">- Usa uma tabela de cores fixa que subdivide o cubo RGB,\n",
        "em 256 partes igualmente espaçadas.\n",
        "\n",
        "> A quantização Adaptativa é mais complexa e usa uma\n",
        "tabela de cor adaptada às cores presentes na imagem.\n",
        "\n",
        ">- A técnica mais comum é a do corte mediano (Median Cut)\n",
        "que procura dividir o cubo de maneira que, cada divisão\n",
        "tenha aproximadamente o mesmo número de cores.\n",
        "\n",
        "\n",
        "\n",
        "\n",
        "\n",
        "\n",
        "\n",
        "\n",
        "\n",
        "\n"
      ]
    },
    {
      "cell_type": "markdown",
      "metadata": {
        "id": "efp2Qt8TopN7"
      },
      "source": [
        "Para representar as cores e o espectro de luz temos alguns padrões. \n",
        "\n",
        "- Subdivisão das cores primárias\n",
        "\n",
        "As cores primárias podem ser divididas em dois sistemas: aditivo e subtrativo.\n",
        "\n",
        "O sistema aditivo é basicamente um sistema usado em dispositivos que fazem a emissão de luz, como é o caso de televisões e monitores, por exemplo, e que normalmente utilizam o padrão RGB.\n",
        "\n",
        "Já o sistema subtrativo é aquele presente em dispositivos que emitem luz, como, por exemplo, as tintas e pigmentos. Dentro das cores primárias do sistema subtrativo, destacam-se duas variações principais: o CMYK e o RYB.\n",
        "\n",
        "Essas siglas estranhas para alguns, conhecidas para outros, possuem diferenças entre si quando se cita suas cores primárias.\n",
        "\n",
        "\n",
        "* O sistema RGB é a sigla em inglês para as cores vermelho, verde e azul, que são decompostas a partir da luz branca solar – a fonte natural de luz de nosso planeta. A palavra “aditivo” é justificada nesse sistema justamente porque a adição das três cores primárias formam a **luz branca**.\n",
        "\n",
        ">A mistura das cores primárias do sistema RGB – vermelho, verde e azul – resulta nas seguintes cores:\n",
        ">- Vermelho + azul = magenta,\n",
        ">- Vermelho + verde = amarelo,\n",
        ">- Verde + azul = ciano.\n",
        "\n",
        "As cores geradas são chamadas de cores secundárias da luz. Por sinal, são as cores primárias do sistema subtrativo.\n",
        "\n",
        "* O sistema subtrativo CMYK é muito usado na indústria gráfica, porque para produzir as cores secundárias são usadas justamente o ciano, magenta e amarelo – as cores resultantes da mistura das cores primárias do sistema RGB.\n",
        "\n",
        ">A junção das cores do sistema subtrativo cria algo curioso:\n",
        ">- Amarelo + ciano = verde,\n",
        ">- Amarelo + magenta = vermelho,\n",
        ">- Magenta + ciano = azul.\n",
        "Note que os resultados das cores secundárias do sistema subtrativo CMYK são as cores primárias do RGB!\n",
        "\n",
        "* Sistema subtrativo: RYB que o nome indica as cores red, yellow & blue (vermelho, amarelo e azul) e tal sistema é muito usado por artistas plásticos.\n",
        "\n",
        "\n",
        "![texto do link](https://www.gestaoeducacional.com.br/wp-content/uploads/2020/09/sistema-de-cores-rgb-cmyk-e-ryb-scaled.jpg)\n",
        "\n",
        "\n",
        "[Cores e sistemas de cores](https://www.gestaoeducacional.com.br/cores-primarias-cmyk-rgb-ryb/)"
      ]
    },
    {
      "cell_type": "code",
      "metadata": {
        "id": "piGZsu7DvP-1"
      },
      "source": [
        "#Bibliotecas para tratamento de imagens digitais\n",
        "import matplotlib.pyplot as plt\n",
        "import numpy as np"
      ],
      "execution_count": null,
      "outputs": []
    },
    {
      "cell_type": "code",
      "metadata": {
        "colab": {
          "base_uri": "https://localhost:8080/",
          "height": 300
        },
        "id": "UebSHkKzvQK-",
        "outputId": "05340bcd-7a8a-4551-84ea-3f1f37b3476d"
      },
      "source": [
        "matriz = np.zeros((5,5,3)) #rgb\n",
        "for i in range(0,len(matriz[0])):\n",
        "  for j in range(0,len(matriz[1])):\n",
        "    for k in range(0,3): #k=0 -> vermelho/ k=1 -> verde/k=2 -> azul\n",
        "      if (i==0 and k==0):\n",
        "        matriz[i][j][k] = 255\n",
        "      elif (i==2 and k==1):\n",
        "        matriz[i][j][k] = 255\n",
        "      elif (i==4 and k==2):\n",
        "        matriz[i][j][k] = 255\n",
        "\n",
        "plt.imshow(matriz)"
      ],
      "execution_count": null,
      "outputs": [
        {
          "output_type": "stream",
          "text": [
            "Clipping input data to the valid range for imshow with RGB data ([0..1] for floats or [0..255] for integers).\n"
          ],
          "name": "stderr"
        },
        {
          "output_type": "execute_result",
          "data": {
            "text/plain": [
              "<matplotlib.image.AxesImage at 0x7f9d0a345f90>"
            ]
          },
          "metadata": {
            "tags": []
          },
          "execution_count": 6
        },
        {
          "output_type": "display_data",
          "data": {
            "image/png": "[encoded data removed]",
            "text/plain": [
              "<Figure size 432x288 with 1 Axes>"
            ]
          },
          "metadata": {
            "tags": [],
            "needs_background": "light"
          }
        }
      ]
    },
    {
      "cell_type": "code",
      "metadata": {
        "id": "KLQ45888vR5N"
      },
      "source": [
        ""
      ],
      "execution_count": null,
      "outputs": []
    },
    {
      "cell_type": "code",
      "metadata": {
        "id": "VrlcN9_zvR7g"
      },
      "source": [
        ""
      ],
      "execution_count": null,
      "outputs": []
    },
    {
      "cell_type": "code",
      "metadata": {
        "id": "uZPfS4VlvSB6"
      },
      "source": [
        ""
      ],
      "execution_count": null,
      "outputs": []
    },
    {
      "cell_type": "code",
      "metadata": {
        "id": "JDtUDYUqvTHj"
      },
      "source": [
        ""
      ],
      "execution_count": null,
      "outputs": []
    },
    {
      "cell_type": "code",
      "metadata": {
        "id": "VhGm7LrgvTJ7"
      },
      "source": [
        ""
      ],
      "execution_count": null,
      "outputs": []
    },
    {
      "cell_type": "code",
      "metadata": {
        "id": "_Wr99CVivTMQ"
      },
      "source": [
        ""
      ],
      "execution_count": null,
      "outputs": []
    },
    {
      "cell_type": "code",
      "metadata": {
        "id": "feWMx5CW_FVz"
      },
      "source": [
        "#Bibliotecas para tratamento de imagens digitais\n",
        "import matplotlib.pyplot as plt\n",
        "import numpy as np"
      ],
      "execution_count": null,
      "outputs": []
    },
    {
      "cell_type": "code",
      "metadata": {
        "colab": {
          "base_uri": "https://localhost:8080/",
          "height": 229
        },
        "id": "Ux4kY2uXwi4p",
        "outputId": "642e7df7-a1f5-407a-9c18-29a07344dff2"
      },
      "source": [
        "new = np.zeros((5, 5,3))\n",
        "for i in range(0,len(new)):\n",
        "  for j in range(0, len(new[0])):\n",
        "    for k in range(0, 3):\n",
        "      if (i==0 and k==0):\n",
        "        new[i][j][k]=255 \n",
        "\n",
        "plt.imshow(new)"
      ],
      "execution_count": null,
      "outputs": [
        {
          "output_type": "error",
          "ename": "NameError",
          "evalue": "ignored",
          "traceback": [
            "\u001b[0;31m---------------------------------------------------------------------------\u001b[0m",
            "\u001b[0;31mNameError\u001b[0m                                 Traceback (most recent call last)",
            "\u001b[0;32m<ipython-input-1-216a35403ae6>\u001b[0m in \u001b[0;36m<module>\u001b[0;34m()\u001b[0m\n\u001b[1;32m      1\u001b[0m \u001b[0;31m#@title\u001b[0m\u001b[0;34m\u001b[0m\u001b[0;34m\u001b[0m\u001b[0;34m\u001b[0m\u001b[0m\n\u001b[0;32m----> 2\u001b[0;31m \u001b[0mnew\u001b[0m \u001b[0;34m=\u001b[0m \u001b[0mnp\u001b[0m\u001b[0;34m.\u001b[0m\u001b[0mzeros\u001b[0m\u001b[0;34m(\u001b[0m\u001b[0;34m(\u001b[0m\u001b[0;36m5\u001b[0m\u001b[0;34m,\u001b[0m \u001b[0;36m5\u001b[0m\u001b[0;34m,\u001b[0m\u001b[0;36m3\u001b[0m\u001b[0;34m)\u001b[0m\u001b[0;34m)\u001b[0m\u001b[0;34m\u001b[0m\u001b[0;34m\u001b[0m\u001b[0m\n\u001b[0m\u001b[1;32m      3\u001b[0m \u001b[0;32mfor\u001b[0m \u001b[0mi\u001b[0m \u001b[0;32min\u001b[0m \u001b[0mrange\u001b[0m\u001b[0;34m(\u001b[0m\u001b[0;36m0\u001b[0m\u001b[0;34m,\u001b[0m\u001b[0mlen\u001b[0m\u001b[0;34m(\u001b[0m\u001b[0mnew\u001b[0m\u001b[0;34m)\u001b[0m\u001b[0;34m)\u001b[0m\u001b[0;34m:\u001b[0m\u001b[0;34m\u001b[0m\u001b[0;34m\u001b[0m\u001b[0m\n\u001b[1;32m      4\u001b[0m   \u001b[0;32mfor\u001b[0m \u001b[0mj\u001b[0m \u001b[0;32min\u001b[0m \u001b[0mrange\u001b[0m\u001b[0;34m(\u001b[0m\u001b[0;36m0\u001b[0m\u001b[0;34m,\u001b[0m \u001b[0mlen\u001b[0m\u001b[0;34m(\u001b[0m\u001b[0mnew\u001b[0m\u001b[0;34m[\u001b[0m\u001b[0;36m0\u001b[0m\u001b[0;34m]\u001b[0m\u001b[0;34m)\u001b[0m\u001b[0;34m)\u001b[0m\u001b[0;34m:\u001b[0m\u001b[0;34m\u001b[0m\u001b[0;34m\u001b[0m\u001b[0m\n\u001b[1;32m      5\u001b[0m     \u001b[0;32mfor\u001b[0m \u001b[0mk\u001b[0m \u001b[0;32min\u001b[0m \u001b[0mrange\u001b[0m\u001b[0;34m(\u001b[0m\u001b[0;36m0\u001b[0m\u001b[0;34m,\u001b[0m \u001b[0;36m3\u001b[0m\u001b[0;34m)\u001b[0m\u001b[0;34m:\u001b[0m\u001b[0;34m\u001b[0m\u001b[0;34m\u001b[0m\u001b[0m\n",
            "\u001b[0;31mNameError\u001b[0m: name 'np' is not defined"
          ]
        }
      ]
    },
    {
      "cell_type": "code",
      "metadata": {
        "id": "E1iK_lqP-1gx"
      },
      "source": [
        ""
      ],
      "execution_count": null,
      "outputs": []
    }
  ]
}