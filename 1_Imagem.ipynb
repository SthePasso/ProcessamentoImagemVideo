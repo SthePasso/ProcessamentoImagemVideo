{
  "nbformat": 4,
  "nbformat_minor": 0,
  "metadata": {
    "colab": {
      "name": "1 - Imagem",
      "provenance": []
    },
    "kernelspec": {
      "name": "python3",
      "display_name": "Python 3"
    },
    "language_info": {
      "name": "python"
    }
  },
  "cells": [
    {
      "cell_type": "markdown",
      "metadata": {
        "id": "_SO5KBbXwlHe"
      },
      "source": [
        "**Análise e tratamento de Imagens e Vídeos Digitais**\n",
        "> **Professora: Sthefanie Passo** "
      ]
    },
    {
      "cell_type": "markdown",
      "metadata": {
        "id": "wjoQC2njw8kg"
      },
      "source": [
        "## **Fundamentos de Processamento de Imagens Digitais**"
      ]
    },
    {
      "cell_type": "markdown",
      "metadata": {
        "id": "mmdqrL4gw9hT"
      },
      "source": [
        "Conceitos Importantes\n",
        "- Imagem Digital\n",
        "- Pixel (ponto)\n",
        "- Cor\n",
        "- Amostragem\n",
        "- Quantização\n",
        "- Resolução Espacial\n",
        "- Histograma\n",
        "- Detecção de Bordas\n",
        "- Segmentação\n",
        "\n",
        "> Imagem\n",
        "> 1. representação, reprodução ou imitação da forma de uma pessoa ou de um objeto\n",
        "> 2. reprodução estática ou dinâmica de seres, objetos, cenas etc. obtida por meios técnicos.\n",
        "\n",
        "\n",
        "![texto do link](https://www.researchgate.net/profile/Gustavo-Matuck/publication/268286320/figure/fig1/AS:650030964805696@1531990867539/Figura-31-Paradigma-dos-Quatro-Universos.png)\n",
        "\n",
        "a) Imagem contínua\n",
        "b) Amostragem\n",
        "c) Quantização\n",
        "d) Codificação\n",
        "\n",
        "![texto do link](https://www.researchgate.net/profile/Joao-Paulo-Folador/publication/306108195/figure/fig5/AS:642153327890432@1530112692243/Figura-5-Processo-de-digitalizacao-da-imagem-em-a-tem-se-a-imagem-continua-b-a.png)\n",
        "\n",
        "Imagem Digital\n",
        "\n",
        "f(x ,y ) = Intensidade de Cor no ponto (x, y)\n",
        "\n",
        "onde x ∊ [0, X] e y ∊ [0,Y]\n",
        "\n",
        "- A imagem digital é obtida a partir de uma amostragem\n",
        "(eixo x) e de uma quantização (eixo Y) dessa função.\n",
        "- Cria uma matriz de valores que representam a cor.\n",
        "- Cada elemento dessa matriz é chamado de Pixel\n",
        "(abreviação de Picture Element).\n",
        "\n",
        "> Amostragem\n",
        ">- O processo de discretização do eixo x é chamado de\n",
        "Amostragem\n",
        ">- Define a quantidade de pixels da imagem\n",
        "\n",
        "> Quantização\n",
        ">- O processo de discretização do eixo y é chamado de\n",
        "Quantização\n",
        ">- Define a quantidade de cores da imagem\n",
        "> A captura de uma imagem (discretização de um sinal\n",
        "contínuo) primeiro passa por uma amostragem e\n",
        "depois passa por uma quantização\n"
      ]
    },
    {
      "cell_type": "code",
      "metadata": {
        "id": "S8ekUfWxgMWu"
      },
      "source": [
        "#Bibliotecas para tratamento de imagens digitais\n",
        "import matplotlib.pyplot as plt\n",
        "import numpy as np"
      ],
      "execution_count": 6,
      "outputs": []
    },
    {
      "cell_type": "code",
      "metadata": {
        "id": "TR9jBs2WgMg5",
        "colab": {
          "base_uri": "https://localhost:8080/",
          "height": 286
        },
        "outputId": "12586e3a-0988-4020-e914-dab09651f66c"
      },
      "source": [
        "#Crie e plote uma imagem\n",
        "matriz = [[255, 10, 60],\n",
        "          [200, 50, 100],\n",
        "          [0, 10, 25]]\n",
        "plt.imshow(matriz, cmap='gray')"
      ],
      "execution_count": 9,
      "outputs": [
        {
          "output_type": "execute_result",
          "data": {
            "text/plain": [
              "<matplotlib.image.AxesImage at 0x7fefab4f1b10>"
            ]
          },
          "metadata": {
            "tags": []
          },
          "execution_count": 9
        },
        {
          "output_type": "display_data",
          "data": {
            "image/png": "[encoded data removed]",
            "text/plain": [
              "<Figure size 432x288 with 1 Axes>"
            ]
          },
          "metadata": {
            "tags": [],
            "needs_background": "light"
          }
        }
      ]
    },
    {
      "cell_type": "code",
      "metadata": {
        "colab": {
          "base_uri": "https://localhost:8080/",
          "height": 282
        },
        "id": "W7w98z1HqhTd",
        "outputId": "b74b4ee6-f929-4858-94ad-780e875b9e53"
      },
      "source": [
        "matriz = np.zeros((10, 10))\n",
        "for i in range(0,len(matriz[0])):\n",
        "  for j in range(0,len(matriz[1])):\n",
        "    if i==j: #diagonal principal\n",
        "      matriz[i][j] = 255\n",
        "    #diagonal secundaria i+j == len(matriz[0])-1\n",
        "plt.imshow(matriz, cmap='gray')"
      ],
      "execution_count": 12,
      "outputs": [
        {
          "output_type": "execute_result",
          "data": {
            "text/plain": [
              "<matplotlib.image.AxesImage at 0x7fefab1d8c90>"
            ]
          },
          "metadata": {
            "tags": []
          },
          "execution_count": 12
        },
        {
          "output_type": "display_data",
          "data": {
            "image/png": "[encoded data removed]",
            "text/plain": [
              "<Figure size 432x288 with 1 Axes>"
            ]
          },
          "metadata": {
            "tags": [],
            "needs_background": "light"
          }
        }
      ]
    },
    {
      "cell_type": "markdown",
      "metadata": {
        "id": "efp2Qt8TopN7"
      },
      "source": [
        "##Pixel\n",
        "\n",
        "> A palavra pixel é oriunda da junção dos termos picture e element, formando, ao pé da letra, a expressão elemento de imagem. Ao visualizarmos uma imagem com alto índice de aproximação ,é possível identificar pequenos quadrados coloridos nela, que, somados, formam o desenho completo.\n",
        "\n",
        "> Esses pontos, que são a menor parte de uma imagem, levam o nome de pixels. A partir da noção do pixel como uma medida da qualidade das imagens, foi propagado o termo “resolução” para atribuir quantos pixels em altura e largura uma foto tem.\n",
        "\n",
        "## Vizinhança de pixel\n",
        "Dentro de um espaço discreto temos o conceito de vizinhança de um pixel. A vizinhança de um pixel se aplica a uma imagem para determinar se um pixel e algum de seus vizinhos fazem parte do mesmo objeto numa imagem.\n",
        "\n",
        "![texto do link](https://www.researchgate.net/profile/Rodrigo-Amaral-3/publication/265051077/figure/fig7/AS:668362367574043@1536361414890/Figura-1-a-Exemplo-de-vizinhanca-3-x-3-centrada-em-um-pixel-alvo-b-Conectividade-da.ppm)\n",
        "\n",
        "Dependendo do contexto um pixel pode ter dois tipos de vizinhança a 4-vizinhança e a 8-vizinhança.\n",
        "\n",
        "Na 4-vizinhança olha-se para o pixel e os pixels mais próximos nos eixos horizontal e vertical, de forma que um pixel pode ter apenas 4 vizinhos, como representado na figura abaixo.\n",
        "\n",
        "Dependendo do contexto um pixel pode ter dois tipos de vizinhança a 4-vizinhança e a 8-vizinhança.\n",
        "\n",
        "* Na 4-vizinhança olha-se para o pixel e os pixels mais próximos nos eixos horizontal e vertical, de forma que um pixel pode ter apenas 4 vizinhos, como representado na figura abaixo.\n",
        "* A 8-vizinhança considera alem dos eixos horizontal e vertical as diagonais de forma que um pixel possuirá 8 vizinhos\n",
        "\n",
        "![texto do link](https://encrypted-tbn0.gstatic.com/images?q=tbn:ANd9GcSnHFeFEHv1IzfAYhF-0nWe6atuVzdpiMeZmhHV8NbW26ajTulxQzNCuqFUe_lCzOi3Vcs&usqp=CAU)\n",
        "\n",
        "Outros tipos de vizinhança podem ser realizados como a vizinhança \n",
        ">(a) vizinhança horizontal e vertical\n",
        "\n",
        ">(b) diagonal\n",
        "\n",
        ">(c) 8-vizinhança\n",
        "\n",
        "![texto do link](https://www.researchgate.net/profile/Marcio-Name/publication/314347329/figure/fig2/AS:469780076470273@1489015706379/Figura-3-Exemplos-de-vizinhanca-a-vizinhanca-horizontal-e-vertical-b-diagonal-e.png)\n",
        "\n",
        "Importante para algoritmos de preenchimento de\n",
        "áreas e determinação de continuidade de objetos\n",
        "\n",
        "[Modelo de imagem](https://maalencar.wordpress.com/2012/03/15/image-models-voxel-neighborhood-and-connectivity/#:~:text=Dentro%20de%20um%20espa%C3%A7o%20discreto,vizinhan%C3%A7a%20e%20a%208%2Dvizinhan%C3%A7a.)\n"
      ]
    },
    {
      "cell_type": "code",
      "metadata": {
        "id": "feWMx5CW_FVz"
      },
      "source": [
        "#Bibliotecas para tratamento de imagens digitais\n",
        "import matplotlib.pyplot as plt\n",
        "import numpy as np"
      ],
      "execution_count": 13,
      "outputs": []
    },
    {
      "cell_type": "code",
      "metadata": {
        "id": "E1iK_lqP-1gx",
        "colab": {
          "base_uri": "https://localhost:8080/",
          "height": 304
        },
        "outputId": "bf76cba5-5959-4d3d-d136-12c2adf66457"
      },
      "source": [
        "# Calcule o elemento cetral com a média dos 4-vizinhos nas diagonais\n",
        "matriz = [[255, 10, 60],\n",
        "          [200, 50, 100],\n",
        "          [0, 10, 25]]\n",
        "#for i in range(0, len(matriz[0])):\n",
        "#  for j in range(0, len(matriz[1])):\n",
        "i=1\n",
        "j=1\n",
        "media_vizinhos = (matriz[i-1][j-1] + matriz[i+1][j+1] + matriz[i+1][j-1] + matriz[i+1][j+1])/4\n",
        "matriz[i][j] = media_vizinhos\n",
        "print(media_vizinhos)\n",
        "plt.imshow(matriz, cmap='gray')"
      ],
      "execution_count": 15,
      "outputs": [
        {
          "output_type": "stream",
          "text": [
            "76.25\n"
          ],
          "name": "stdout"
        },
        {
          "output_type": "execute_result",
          "data": {
            "text/plain": [
              "<matplotlib.image.AxesImage at 0x7fefab0d6ad0>"
            ]
          },
          "metadata": {
            "tags": []
          },
          "execution_count": 15
        },
        {
          "output_type": "display_data",
          "data": {
            "image/png": "[encoded data removed]",
            "text/plain": [
              "<Figure size 432x288 with 1 Axes>"
            ]
          },
          "metadata": {
            "tags": [],
            "needs_background": "light"
          }
        }
      ]
    },
    {
      "cell_type": "code",
      "metadata": {
        "id": "tyUh6Pr8osYW"
      },
      "source": [
        "# Calcule o elemento cetral com a média dos 4-vizinhos na vertical e horizontal\n"
      ],
      "execution_count": null,
      "outputs": []
    }
  ]
}