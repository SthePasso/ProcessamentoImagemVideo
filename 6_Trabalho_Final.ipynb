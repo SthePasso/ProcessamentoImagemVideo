{
  "nbformat": 4,
  "nbformat_minor": 0,
  "metadata": {
    "colab": {
      "name": "6 - Trabalho Final",
      "provenance": []
    },
    "kernelspec": {
      "name": "python3",
      "display_name": "Python 3"
    },
    "language_info": {
      "name": "python"
    }
  },
  "cells": [
    {
      "cell_type": "markdown",
      "metadata": {
        "id": "_SO5KBbXwlHe"
      },
      "source": [
        "**Análise e tratamento de Imagens e Vídeos Digitais**\n",
        "> **Professora: Sthefanie Passo** "
      ]
    },
    {
      "cell_type": "markdown",
      "metadata": {
        "id": "mmdqrL4gw9hT"
      },
      "source": [
        "### Processamento de Imagens e Vídeos Digitais (PID)\n",
        "Implemente as seguintes operações sobre imagens:\n",
        "1. Alteração de brilho.\n",
        "2. Imagem negativa.\n",
        "3. Histograma global.\n",
        "4. Histograma local. Defina um particionamento da imagem com no mínimo 3 partições.\n",
        "Concatenar os histogramas em um único vetor. Armazenar o resultado em um arquivo para\n",
        "facilitar a visualização do resultado.\n",
        "5. Três transformadas radiométricas: uma de Equalização de Histograma e as outra duas a\n",
        "escolher.\n",
        "6. Dois filtros espaciais, podendo escolher entre o filtro dos k vizinhos mais próximos, filtro\n",
        "da mediana, filtro da moda, filtro da média, etc. Comparar os resultados com o filtro da\n",
        "média. Deve-se gerar imagens com ruído (10% a 20%) do tipo sal e pimenta para testes.\n",
        "Comparar os resultados.\n",
        "7. Detecção de bordas, qualquer técnica. Necessário reduzir a quantidade de cores\n",
        "(quantização). A quantização escolhida deve ficar entre 32 a 256 cores. A técnica de\n",
        "redução da quantização fica a sua escolha, podendo utilizar operações disponíveis em\n",
        "bibliotecas.\n",
        "8. Extração de propriedades de cor usando o descritor BIC. Aproveita a redução da\n",
        "quantização da questão anterior.\n",
        "\n",
        ">As operações dos itens 1, 2, 5, 6 e 7 devem gerar uma nova imagem como resultado. As operações\n",
        "3, 4 e 8 devem gerar um arquivo com o vetor de característica resultante."
      ]
    },
    {
      "cell_type": "markdown",
      "metadata": {
        "id": "2p5HIPOlFLk9"
      },
      "source": [
        "###Soluções de Business Inteligence (BI) com atuação de desenvolvimento de Sistemas transacionais (OLTP) utilizando SQL\n",
        "\n",
        "Você foi encarregado de construir um banco de dados em SQL para uma empresa Gourmet. Essa empresa é constituida de\n",
        "- Funcionários (nome, telefone, função, salário)\n",
        "- Produtos (nome, caracteristicas, preço, foto)\n",
        "- Clientes (nome, telefone, endereço, carrinho, carrinho pago)\n",
        "- Encomenda (carrinho, cliente, data de entrega)\n",
        "- Caixa (contas, valor total de encomendas não pagas, valor total de encomendas pagas, lucro total) \n",
        "- Contas (nome, descrição, preço)\n",
        "\n",
        "> Para cada uma dessas entidades na empresa deve-se construir uma classe com seus atributos e relacionamentos. Os valores devem ser populados com o auxilio de uma planilha do exel e alterações devem ser salvas nessa mesma planilha.\n",
        "\n",
        "> Após isso você deve fazer algumas consultas\n",
        "1. Todas as encomendas do dia 08/06/2021 mostrando os dados do cliente e o carrinho\n",
        "2. Histórico de Compras da cliente 'Ana'\n",
        "3. Todas as encomendas realizadas no mês de julho\n",
        "4. E mais 3 consutas em SQL que digam sobre a quantidade de produtos vendidos, o fluxo de caixa etc. Justificar o porque dessas consultas.\n",
        "5. Faça uma interfaze __main__ em que o usuario pode realizar consulta de produtos, permita que ele encomende um produto. Plote a foto dos produtos que ele quer ver.\n",
        "* se no dia que ele estiver buscando produto for domingo, plote a imagem original e a do filtro 1 do exercicio de PID. Se for na segunda então plote a imagem original e o filtro 2 do exercício de PID e assim sucessivamente.\n",
        "* todas essas imagens devem estar salvas no banco de dados e atravez de SELECT devem ser encontradas e ser feito o plot "
      ]
    },
    {
      "cell_type": "code",
      "metadata": {
        "id": "EDa0rgR5MKLU"
      },
      "source": [
        ""
      ],
      "execution_count": null,
      "outputs": []
    }
  ]
}