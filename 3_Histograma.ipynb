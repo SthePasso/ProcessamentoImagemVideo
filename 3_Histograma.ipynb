{
  "nbformat": 4,
  "nbformat_minor": 0,
  "metadata": {
    "colab": {
      "name": "3 - Histograma",
      "provenance": []
    },
    "kernelspec": {
      "name": "python3",
      "display_name": "Python 3"
    },
    "language_info": {
      "name": "python"
    }
  },
  "cells": [
    {
      "cell_type": "markdown",
      "metadata": {
        "id": "_SO5KBbXwlHe"
      },
      "source": [
        "**Análise e tratamento de Imagens e Vídeos Digitais**\n",
        "> **Professora: Sthefanie Passo** "
      ]
    },
    {
      "cell_type": "markdown",
      "metadata": {
        "id": "wjoQC2njw8kg"
      },
      "source": [
        "## **Histograma**"
      ]
    },
    {
      "cell_type": "markdown",
      "metadata": {
        "id": "mmdqrL4gw9hT"
      },
      "source": [
        "> Histograma\n",
        ">- Contagem do número de vezes em que cada\n",
        "um dos K tons de cinza ocorre na imagem\n",
        "\n",
        "![alt text](https://www.fastrawviewer.com/sites/fastrawviewer.com/files/Typical-Histogram-and-legend_655px.jpg)\n",
        "\n",
        ">  Resolução Espacial\n",
        ">- Ao ser digitalizada a imagem assume um\n",
        "tamanho adimensional, em pixels.\n",
        ">- Resolução: medida de qualidade da\n",
        "amostragem, conhecendo-se a razão entre o\n",
        "número de pixels obtido e o tamanho da\n",
        "imagem.\n",
        ">- Exemplo de medida: DPI (dots per inch)\n",
        "p ex:Monitor Comum - 72 DPI; Scanner - 1200 DPI;\n",
        "Impressora Jato de Tinta Popular - 600 DPI\n",
        ">- Um círculo amostrado em duas resoluções,\n",
        "mas exibido no seu tamanho original.\n",
        "\n",
        "![texto do link](http://www.engesat.com.br/wp-content/uploads/resolu%C3%A7%C3%A3o-espacial.png)\n",
        "\n",
        ">Qualidade da imagem: amostragem × quantização\n",
        "\n",
        ">Compressão e Formatos de Arquivos\n",
        ">- O tamanho em bytes de uma imagem pode ser\n",
        "calculado com:\n",
        ">- Tamanho = Largura x Altura x\n",
        "Profundidade x BPC\n",
        "> Onde:\n",
        ">- largura e altura são o número de pixels na horizontal\n",
        "e vertical\n",
        ">- Profundidade é o número de componentes do sistema\n",
        "de cor (RGB=3, CMYK=4, Tons de Cinza =1, etc.)\n",
        ">- BPC é o número de bits por componente\n",
        "\n",
        ">Exemplo 1:\n",
        ">- Imagem de 1024x768 com 24 Bpp = 2,25 MB\n",
        ">- Largura=1024 x Altura=768 x Profundidade=3 x BPC=8\n",
        "\n",
        "> Exemplo 2:\n",
        ">- Imagem 15cm x 10cm capturada com 300 DPI\n",
        "em True Color (24 Bpp)\n",
        ">- Largura = 15 x 300 / 2,54 = 1771\n",
        ">- Altura = 10 x 300 / 2,54 = 1181\n",
        ">- Tamanho = 1771 x 1181 x 3 = ~6 MB\n",
        "\n",
        ">Exemplo 3:\n",
        ">- A mesma imagem com 600 DPI\n",
        ">- Tamanho = ~24 MB\n",
        ">- Exemplo 4:\n",
        ">- Página A4 com 600 DPI = ~100MB\n",
        "\n",
        ">- Portanto, há necessidade de compressão!\n",
        "\n",
        "![texto do link](https://lh3.googleusercontent.com/-PozF4HA5oNI/XodOKBCXpyI/AAAAAAAAAcA/e99OvsV5lXUs-k8C_IPVCFlUe_xX_mejgCK8BGAsYHg/s0/2020-04-03.png)\n"
      ]
    },
    {
      "cell_type": "markdown",
      "metadata": {
        "id": "h4zj4NK0lnSE"
      },
      "source": [
        "## Processamento de Imagens"
      ]
    },
    {
      "cell_type": "markdown",
      "metadata": {
        "id": "zQnzuTC3lo6L"
      },
      "source": [
        "Conceitos Fundamentais de Processamento de Imagens\n",
        "\n",
        ">O objetivo de um sistema de processamento de imagens é principalmente extrair informações relevantes e úteis para uma determinada aplicação. Um sistema deste tipo é composto de várias etapas e pode ser separado em blocos como ilustra a figura abaixo.\n",
        "\n",
        "![Texto](https://lh3.googleusercontent.com/proxy/mxdfIxPFh24fejzHtCFFx7yO1KArI8B2mR0-A1kLVUvKePLbgIm4yUwkSUvlrkwO7FS7cr1MnBXxStzFUvfF2jUKN5vvSMho)\n",
        "\n",
        "Aplicações\n",
        "- Sensoriamento Remoto\n",
        "- Astronomia\n",
        "- Medicina\n",
        "- Microscopia\n",
        "- Manutenção de obras de arte\n",
        "- Identificação de impressões digitais\n",
        "- Armazenamento de documentos\n",
        "- Controle de qualidade\n",
        "- Fotografia\n",
        "- Efeitos especiais (produção de filmes)"
      ]
    },
    {
      "cell_type": "code",
      "metadata": {
        "id": "feWMx5CW_FVz"
      },
      "source": [
        "#Bibliotecas para tratamento de imagens digitais\n",
        "import matplotlib.pyplot as plt\n",
        "import numpy as np"
      ],
      "execution_count": null,
      "outputs": []
    },
    {
      "cell_type": "code",
      "metadata": {
        "colab": {
          "base_uri": "https://localhost:8080/",
          "height": 265
        },
        "id": "GdKOS4_w3S57",
        "outputId": "80467ee1-11e8-411c-b833-00350114c48c"
      },
      "source": [
        "def histograma(img):\n",
        "  hist = np.zeros(256)\n",
        "  for i in range(0,len(img[0])):\n",
        "    for j in range(0, len(img[1])):\n",
        "      index = img[i][j]\n",
        "      hist[index] = hist[index] + 1\n",
        "  return hist\n",
        "\n",
        "if __name__ =='__main__':\n",
        "  matriz = [[255, 60, 0],\n",
        "            [60, 40, 10],\n",
        "            [255, 20, 0]]\n",
        "  plt.plot(histograma(matriz))\n",
        "  #plt.imshow(matriz, cmap='gray')"
      ],
      "execution_count": null,
      "outputs": [
        {
          "output_type": "display_data",
          "data": {
            "image/png": "[encoded data removed]",
            "text/plain": [
              "<Figure size 432x288 with 1 Axes>"
            ]
          },
          "metadata": {
            "tags": [],
            "needs_background": "light"
          }
        }
      ]
    }
  ]
}