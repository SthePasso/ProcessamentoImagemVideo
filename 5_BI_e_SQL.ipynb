{
  "nbformat": 4,
  "nbformat_minor": 0,
  "metadata": {
    "colab": {
      "name": "5 - BI e SQL",
      "provenance": []
    },
    "kernelspec": {
      "name": "python3",
      "display_name": "Python 3"
    },
    "language_info": {
      "name": "python"
    }
  },
  "cells": [
    {
      "cell_type": "markdown",
      "metadata": {
        "id": "_SO5KBbXwlHe"
      },
      "source": [
        "> **Professora: Sthefanie Passo** "
      ]
    },
    {
      "cell_type": "markdown",
      "metadata": {
        "id": "wjoQC2njw8kg"
      },
      "source": [
        "## **Soluções de Business Intelligence (BI)**\n",
        "\n",
        "Business Intelligence pode ser descrito como um processo orientado pela tecnologia para analisar dados e apresentar informações acionáveis para ajudar executivos, gerentes e outros usuários finais corporativos a tomar decisões de negócios bem informadas.\n",
        "\n",
        "Assim, o BI engloba uma ampla variedade de ferramentas, aplicativos e metodologias que possibilitam às organizações coletarem dados de sistemas internos e fontes externas, preparando-os para análise e desenvolvendo consultas em relação a eles.\n",
        "\n",
        "As ferramentas de Business Intelligence são capazes de acessar e examinar conjuntos de dados apresentando seus resultados em relatórios analíticos, resumos, painéis gráficos e mapas, visando fornecer aos utilizadores informações detalhadas sobre o estado do negócio.\n",
        "\n",
        "[Soluções de Business Intelligence](https://www.knowsolution.com.br/o-que-e-business-intelligence-bi/)"
      ]
    },
    {
      "cell_type": "markdown",
      "metadata": {
        "id": "lMJv7uLXPrJl"
      },
      "source": [
        "## **Atuação em desenvolvimento de sistemas transacionais (OLTP)**\n",
        "As siglas OLTP e OLAP são bastante utilizadas no universo do Business Intelligence (BI). Porém, ambas possuem conceitos divergentes e são aplicadas em contextos diferentes. Neste artigo entenderemos melhor cada uma.\n",
        "\n",
        "O OLTP, do inglês \"On-line Transaction Processing\", é o termo usado para se referir aos sistemas transacionais, ou seja, os sistemas operacionais das organizações. São utilizados no processamento dos dados de rotina que são gerados diariamente através dos sistemas informacionais da empresa e dão suporte às funções de execução do negócio organizacional.\n",
        "\n",
        "Já o OLAP, do inglês \"On-line Analytical Processing\", trata da capacidade de analisar grandes volumes de informações nas mais diversas perspectivas dentro de um Data Warehouse (DW). O OLAP também faz referência às ferramentas analíticas utilizadas no BI para a visualização das informações gerenciais e dá suporte para as funções de análises do negócio organizacional.\n",
        "\n",
        "![texto do link](https://ib.canaltech.com.br/252473.png)\n",
        "\n",
        "\n",
        "[OLTP e OLAP](https://canaltech.com.br/business-intelligence/o-que-significa-oltp-e-olap-na-pratica/)"
      ]
    },
    {
      "cell_type": "markdown",
      "metadata": {
        "id": "hGr_KkGpP0sx"
      },
      "source": [
        "##**SQL**\n",
        "\n",
        "Para termos um banco de dados temos que criar tabelas com os dados que precisamos guardar. Para isso SQL auxilia na criação de tabelas, segurança e busca de dados.\n",
        "\n",
        "Structured Query Language (SQL) é a linguagem usada para armazenar, manipular e recuperar dados de muitos bancos de dados. É a linguagem padrão para muitos sistemas de gerenciamento de banco de dados relacional, que são um tipo de banco de dados usado por organizações em todo o mundo. Este tipo de sistema de gerenciamento de banco de dados relacional é usado para armazenar dados em tabelas e exemplos de tais incluem SQLite, MySQL, Postgres, Oracle etc.\n",
        "\n",
        "Durante o Moringa DataScience Prep, aprenderemos sobre SQL, pois, como cientistas de dados, podemos ser obrigados a interagir com esses dados por meio do uso de SQL.\n",
        "\n",
        "Neste bloco de notas, usaremos SQL para aprender como as tabelas em bancos de dados são criadas. Mais especificamente, aprenderemos como a estrutura das tabelas é definida, o que é crítico para determinar a qualidade dos dados. Quanto melhor for a estrutura, mais fácil será limpar os dados.\n",
        "\n",
        "![texto do link](http://www.cadcobol.com.br/db2_novo_conceito_banco_de_dados_relacional.png)"
      ]
    },
    {
      "cell_type": "code",
      "metadata": {
        "colab": {
          "base_uri": "https://localhost:8080/",
          "height": 35
        },
        "id": "kEoc-XPoUJTj",
        "outputId": "4c5933b1-33f5-4e64-d899-310f708bb3e4"
      },
      "source": [
        "# Vamos primeiro carregar uma extensão sql em nosso ambiente\n",
        "# Esta extensão nos permitirá trabalhar com sql no Colaboratory\n",
        "#\n",
        "%load_ext sql\n",
        "# Em seguida, conectaremos ao nosso banco de dados sqlite em memória\n",
        "# NB: Este banco de dados deixará de existir assim que a conexão com o banco de dados for encerrada.\n",
        "# Aprenderemos mais sobre como os bancos de dados são criados posteriormente na preparação.\n",
        "%sql sqlite://"
      ],
      "execution_count": null,
      "outputs": [
        {
          "output_type": "execute_result",
          "data": {
            "application/vnd.google.colaboratory.intrinsic+json": {
              "type": "string"
            },
            "text/plain": [
              "'Connected: @None'"
            ]
          },
          "metadata": {
            "tags": []
          },
          "execution_count": 1
        }
      ]
    },
    {
      "cell_type": "markdown",
      "metadata": {
        "id": "3oOkd4OsSWbc"
      },
      "source": [
        "###Criando uma Tabela"
      ]
    },
    {
      "cell_type": "code",
      "metadata": {
        "colab": {
          "base_uri": "https://localhost:8080/"
        },
        "id": "rv0mrO2OULPx",
        "outputId": "41392cd6-46bf-477f-f52f-018f5fca9425"
      },
      "source": [
        "# Exemplo 1\n",
        "# Vamos agora definir e criar uma tabela Classmates em nosso banco de dados (se ela não existir).\n",
        "# Esta tabela terá os campos: PersonID, LastName, FirstName, Phone and Residence conforme mostrado abaixo.\n",
        "# Em seguida, buscaremos todos os registros da tabela.\n",
        "#\n",
        "%%sql \n",
        "CREATE TABLE if not exists Classmates (\n",
        "    PersonID, \n",
        "    LastName, \n",
        "    FirstName, \n",
        "    Phone, \n",
        "    Residence\n",
        "); "
      ],
      "execution_count": null,
      "outputs": [
        {
          "output_type": "stream",
          "text": [
            " * sqlite://\n",
            "Done.\n"
          ],
          "name": "stdout"
        },
        {
          "output_type": "execute_result",
          "data": {
            "text/plain": [
              "[]"
            ]
          },
          "metadata": {
            "tags": []
          },
          "execution_count": 2
        }
      ]
    },
    {
      "cell_type": "code",
      "metadata": {
        "colab": {
          "base_uri": "https://localhost:8080/",
          "height": 73
        },
        "id": "NT_ut9CiMSN2",
        "outputId": "dc263cec-3dc0-4c13-9162-2062a187ab62"
      },
      "source": [
        "%%sql \n",
        "SELECT * FROM Classmates;"
      ],
      "execution_count": null,
      "outputs": [
        {
          "output_type": "stream",
          "text": [
            " * sqlite://\n",
            "Done.\n"
          ],
          "name": "stdout"
        },
        {
          "output_type": "execute_result",
          "data": {
            "text/html": [
              "<table>\n",
              "    <thead>\n",
              "        <tr>\n",
              "            <th>PersonID</th>\n",
              "            <th>LastName</th>\n",
              "            <th>FirstName</th>\n",
              "            <th>Phone</th>\n",
              "            <th>Residence</th>\n",
              "        </tr>\n",
              "    </thead>\n",
              "    <tbody>\n",
              "    </tbody>\n",
              "</table>"
            ],
            "text/plain": [
              "[]"
            ]
          },
          "metadata": {
            "tags": []
          },
          "execution_count": 3
        }
      ]
    },
    {
      "cell_type": "code",
      "metadata": {
        "colab": {
          "base_uri": "https://localhost:8080/",
          "height": 91
        },
        "id": "tG77BOwiSxhE",
        "outputId": "d1c8edf6-a651-4432-90bb-79d4bbadb57d"
      },
      "source": [
        "# Desafio 1\n",
        "# Neste exemplo, criaremos uma tabela chamada Customers\n",
        "# com as colunas Id, Name, Age, Address, Salary.\n",
        "# Este tipo de estrutura de tabela pode ser usado pelo sistema de gerenciamento Sacco.\n",
        "# Em seguida, busque todos os registros da tabela.\n",
        "#\n",
        "%%sql\n",
        "CREATE TABLE Customers(\n",
        "    Id,\n",
        "    Name,\n",
        "    Age\n",
        "    Address,\n",
        "    Salary\n",
        ");\n",
        "SELECT * FROM Customers;"
      ],
      "execution_count": null,
      "outputs": [
        {
          "output_type": "stream",
          "text": [
            " * sqlite://\n",
            "Done.\n",
            "Done.\n"
          ],
          "name": "stdout"
        },
        {
          "output_type": "execute_result",
          "data": {
            "text/html": [
              "<table>\n",
              "    <thead>\n",
              "        <tr>\n",
              "            <th>Id</th>\n",
              "            <th>Name</th>\n",
              "            <th>Age</th>\n",
              "            <th>Salary</th>\n",
              "        </tr>\n",
              "    </thead>\n",
              "    <tbody>\n",
              "    </tbody>\n",
              "</table>"
            ],
            "text/plain": [
              "[]"
            ]
          },
          "metadata": {
            "tags": []
          },
          "execution_count": 6
        }
      ]
    },
    {
      "cell_type": "code",
      "metadata": {
        "colab": {
          "base_uri": "https://localhost:8080/",
          "height": 73
        },
        "id": "Mlhy0M2HNR_z",
        "outputId": "a8651205-024d-4cec-d124-aac263f22ed3"
      },
      "source": [
        "%%sql\n",
        "SELECT Name FROM Customers;"
      ],
      "execution_count": null,
      "outputs": [
        {
          "output_type": "stream",
          "text": [
            " * sqlite://\n",
            "Done.\n"
          ],
          "name": "stdout"
        },
        {
          "output_type": "execute_result",
          "data": {
            "text/html": [
              "<table>\n",
              "    <thead>\n",
              "        <tr>\n",
              "            <th>Name</th>\n",
              "        </tr>\n",
              "    </thead>\n",
              "    <tbody>\n",
              "    </tbody>\n",
              "</table>"
            ],
            "text/plain": [
              "[]"
            ]
          },
          "metadata": {
            "tags": []
          },
          "execution_count": 7
        }
      ]
    },
    {
      "cell_type": "code",
      "metadata": {
        "id": "WE2FIRkwTJC8"
      },
      "source": [
        "# Desafio 2\n",
        "# Neste exemplo, criaremos uma tabela Students para um sistema de gerenciamento de alunos.\n",
        "# Isso conterá os seguintes campos,\n",
        "# AdmissionsNo, FirstName, MiddleName, LastName, DateOfBirth and DateOfAdmission.\n",
        "# Em seguida, busque todos os registros da tabela Alunos.\n",
        "#"
      ],
      "execution_count": null,
      "outputs": []
    },
    {
      "cell_type": "markdown",
      "metadata": {
        "id": "kP9XEkoFMUC_"
      },
      "source": [
        "###Populando a Tabela"
      ]
    },
    {
      "cell_type": "code",
      "metadata": {
        "colab": {
          "base_uri": "https://localhost:8080/",
          "height": 111
        },
        "id": "xpYnXW6fUNfC",
        "outputId": "19b794b7-9e07-4ce4-bebd-54b07b050a12"
      },
      "source": [
        "# Exemplo 1\n",
        "# Vamos popular, ou seja, inserir dados na tabela Classmates com dados \n",
        "# Alunos ficticios\n",
        "%%sql\n",
        "INSERT INTO Classmates VALUES(123, 'Spain', 'Joel', 59595959553, 'Parque 10');\n",
        "SELECT * FROM Classmates;"
      ],
      "execution_count": null,
      "outputs": [
        {
          "output_type": "stream",
          "text": [
            " * sqlite://\n",
            "1 rows affected.\n",
            "Done.\n"
          ],
          "name": "stdout"
        },
        {
          "output_type": "execute_result",
          "data": {
            "text/html": [
              "<table>\n",
              "    <thead>\n",
              "        <tr>\n",
              "            <th>PersonID</th>\n",
              "            <th>LastName</th>\n",
              "            <th>FirstName</th>\n",
              "            <th>Phone</th>\n",
              "            <th>Residence</th>\n",
              "        </tr>\n",
              "    </thead>\n",
              "    <tbody>\n",
              "        <tr>\n",
              "            <td>123</td>\n",
              "            <td>Spain</td>\n",
              "            <td>Joel</td>\n",
              "            <td>59595959553</td>\n",
              "            <td>Parque 10</td>\n",
              "        </tr>\n",
              "    </tbody>\n",
              "</table>"
            ],
            "text/plain": [
              "[(123, 'Spain', 'Joel', 59595959553, 'Parque 10')]"
            ]
          },
          "metadata": {
            "tags": []
          },
          "execution_count": 8
        }
      ]
    },
    {
      "cell_type": "code",
      "metadata": {
        "colab": {
          "base_uri": "https://localhost:8080/",
          "height": 111
        },
        "id": "l3usxEpOMoR9",
        "outputId": "5b634fdb-e765-42eb-e5c6-a01912a8bae9"
      },
      "source": [
        "# Desafio 1\n",
        "# Popule a tabela Customers realizada no exercício anterior\n",
        "#\n",
        "%%sql\n",
        "INSERT INTO Customers VALUES(0253, \"Jonathas Ribeiro\", 20, 10000);\n",
        "SELECT * FROM Customers;"
      ],
      "execution_count": null,
      "outputs": [
        {
          "output_type": "stream",
          "text": [
            " * sqlite://\n",
            "1 rows affected.\n",
            "Done.\n"
          ],
          "name": "stdout"
        },
        {
          "output_type": "execute_result",
          "data": {
            "text/html": [
              "<table>\n",
              "    <thead>\n",
              "        <tr>\n",
              "            <th>Id</th>\n",
              "            <th>Name</th>\n",
              "            <th>Age</th>\n",
              "            <th>Salary</th>\n",
              "        </tr>\n",
              "    </thead>\n",
              "    <tbody>\n",
              "        <tr>\n",
              "            <td>253</td>\n",
              "            <td>Jonathas Ribeiro</td>\n",
              "            <td>20</td>\n",
              "            <td>10000</td>\n",
              "        </tr>\n",
              "    </tbody>\n",
              "</table>"
            ],
            "text/plain": [
              "[(253, 'Jonathas Ribeiro', 20, 10000)]"
            ]
          },
          "metadata": {
            "tags": []
          },
          "execution_count": 12
        }
      ]
    },
    {
      "cell_type": "code",
      "metadata": {
        "id": "PX0fylrfMoaL"
      },
      "source": [
        "# Desafio 2\n",
        "# Popule a tabela Students realizada no exercício anterior\n",
        "#"
      ],
      "execution_count": null,
      "outputs": []
    },
    {
      "cell_type": "markdown",
      "metadata": {
        "id": "CAJ8P0CbI-Yc"
      },
      "source": [
        "###Especificando os dados de uma tabela"
      ]
    },
    {
      "cell_type": "code",
      "metadata": {
        "colab": {
          "base_uri": "https://localhost:8080/",
          "height": 91
        },
        "id": "KohCp9gIUP-p",
        "outputId": "2a264e84-b6e6-4614-948d-ca0ad377f463"
      },
      "source": [
        "# Exemplo 1\n",
        "# Ao definir nossa tabela, devemos especificar diferentes tipos de dados.\n",
        "# Esses tipos de dados irão garantir que a coluna particular armazene apenas\n",
        "# registros desse tipo, ou seja, a coluna NationalID na tabela de Citizens definida\n",
        "# abaixo aceita apenas valores inteiros. Esses são valores entre -2.147.483.648 e 2.147.483.647.\n",
        "# Se for necessário armazenar valores muito menores ou maiores do que o intervalo acima, então\n",
        "# eles podem usar um tipo de dados diferente, ou seja, typeint ou bigint.\n",
        "# O tipo de dados varchar conterá letras e números até o limite especificado\n",
        "# entre colchetes.\n",
        "#\n",
        "%%sql\n",
        "CREATE TABLE IF NOT EXISTS Citizens (\n",
        "    NationalID int,\n",
        "    FirstName varchar(255),\n",
        "    MiddleName varchar(255),\n",
        "    PostalAddress varchar(255),\n",
        "    Residence varchar(255),\n",
        "    Number int DEFAULT 0\n",
        ");\n",
        "SELECT * from Citizens;"
      ],
      "execution_count": null,
      "outputs": [
        {
          "output_type": "stream",
          "text": [
            " * sqlite://\n",
            "Done.\n",
            "Done.\n"
          ],
          "name": "stdout"
        },
        {
          "output_type": "execute_result",
          "data": {
            "text/html": [
              "<table>\n",
              "    <thead>\n",
              "        <tr>\n",
              "            <th>NationalID</th>\n",
              "            <th>FirstName</th>\n",
              "            <th>MiddleName</th>\n",
              "            <th>PostalAddress</th>\n",
              "            <th>Residence</th>\n",
              "        </tr>\n",
              "    </thead>\n",
              "    <tbody>\n",
              "    </tbody>\n",
              "</table>"
            ],
            "text/plain": [
              "[]"
            ]
          },
          "metadata": {
            "tags": []
          },
          "execution_count": 17
        }
      ]
    },
    {
      "cell_type": "code",
      "metadata": {
        "colab": {
          "base_uri": "https://localhost:8080/",
          "height": 91
        },
        "id": "_udV9fKcKQ0r",
        "outputId": "2cc6e3ef-c18b-45a5-8ead-c108c969180a"
      },
      "source": [
        "# Desafio 1\n",
        "# Crie uma tabela Artists com Artist_Id int, Artist_Name \n",
        "# varchar(60), Artist_JOB date e Posters_In_Stock boolean\n",
        "#\n",
        "%%sql\n",
        "CREATE TABLE Artists(\n",
        "    Artist_Id int,\n",
        "    Artist_Name varchar(60) DEFAULT \"Unkow\",\n",
        "    Artist_JOB date,\n",
        "    Posters_In_Stock bool\n",
        ");\n",
        "SELECT * FROM Artists"
      ],
      "execution_count": null,
      "outputs": [
        {
          "output_type": "stream",
          "text": [
            " * sqlite://\n",
            "Done.\n",
            "Done.\n"
          ],
          "name": "stdout"
        },
        {
          "output_type": "execute_result",
          "data": {
            "text/html": [
              "<table>\n",
              "    <thead>\n",
              "        <tr>\n",
              "            <th>Artist_Id</th>\n",
              "            <th>Artist_Name</th>\n",
              "            <th>Artist_JOB</th>\n",
              "            <th>Posters_In_Stock</th>\n",
              "        </tr>\n",
              "    </thead>\n",
              "    <tbody>\n",
              "    </tbody>\n",
              "</table>"
            ],
            "text/plain": [
              "[]"
            ]
          },
          "metadata": {
            "tags": []
          },
          "execution_count": 18
        }
      ]
    },
    {
      "cell_type": "code",
      "metadata": {
        "id": "_NfPqKUmJQ35"
      },
      "source": [
        "# Desafio 2\n",
        "# Crie uma tabela customer com CustID com datatype int, LastName \n",
        "# com dados varchar(25), FirstName com o tipo de dado varchar(20)\n",
        "#"
      ],
      "execution_count": null,
      "outputs": []
    },
    {
      "cell_type": "markdown",
      "metadata": {
        "id": "uRAv_pfzJQIQ"
      },
      "source": [
        "###Alterando Conteudo de Tabelas"
      ]
    },
    {
      "cell_type": "code",
      "metadata": {
        "colab": {
          "base_uri": "https://localhost:8080/",
          "height": 111
        },
        "id": "3uawtukfUW1A",
        "outputId": "211194b6-4614-45ed-cb91-4e07c10d372f"
      },
      "source": [
        "# Exemplo 1: Adicionando uma coluna\n",
        "# Para adicionar uma coluna Gênero à tabela Classmates, fazemos o seguinte,\n",
        "# em seguida, visualize a tabela para ver as mudanças\n",
        "#\n",
        "%%sql \n",
        "ALTER TABLE Classmates ADD Gender;\n",
        " \n",
        "SELECT * FROM Classmates;"
      ],
      "execution_count": null,
      "outputs": [
        {
          "output_type": "stream",
          "text": [
            " * sqlite://\n",
            "Done.\n",
            "Done.\n"
          ],
          "name": "stdout"
        },
        {
          "output_type": "execute_result",
          "data": {
            "text/html": [
              "<table>\n",
              "    <thead>\n",
              "        <tr>\n",
              "            <th>PersonID</th>\n",
              "            <th>LastName</th>\n",
              "            <th>FirstName</th>\n",
              "            <th>Phone</th>\n",
              "            <th>Residence</th>\n",
              "            <th>Gender</th>\n",
              "        </tr>\n",
              "    </thead>\n",
              "    <tbody>\n",
              "        <tr>\n",
              "            <td>123</td>\n",
              "            <td>Spain</td>\n",
              "            <td>Joel</td>\n",
              "            <td>59595959553</td>\n",
              "            <td>Parque 10</td>\n",
              "            <td>None</td>\n",
              "        </tr>\n",
              "    </tbody>\n",
              "</table>"
            ],
            "text/plain": [
              "[(123, 'Spain', 'Joel', 59595959553, 'Parque 10', None)]"
            ]
          },
          "metadata": {
            "tags": []
          },
          "execution_count": 19
        }
      ]
    },
    {
      "cell_type": "code",
      "metadata": {
        "colab": {
          "base_uri": "https://localhost:8080/",
          "height": 192
        },
        "id": "mitvRNxKUYeF",
        "outputId": "00484501-d02b-4f89-8102-7517dec4093f"
      },
      "source": [
        "# Exemplo 4: Confirmação\n",
        "# Vamos verificar nosso tipo de dados\n",
        "%%sql\n",
        "PRAGMA table_info(Classmates);"
      ],
      "execution_count": null,
      "outputs": [
        {
          "output_type": "stream",
          "text": [
            " * sqlite://\n",
            "Done.\n"
          ],
          "name": "stdout"
        },
        {
          "output_type": "execute_result",
          "data": {
            "text/html": [
              "<table>\n",
              "    <thead>\n",
              "        <tr>\n",
              "            <th>cid</th>\n",
              "            <th>name</th>\n",
              "            <th>type</th>\n",
              "            <th>notnull</th>\n",
              "            <th>dflt_value</th>\n",
              "            <th>pk</th>\n",
              "        </tr>\n",
              "    </thead>\n",
              "    <tbody>\n",
              "        <tr>\n",
              "            <td>0</td>\n",
              "            <td>PersonID</td>\n",
              "            <td></td>\n",
              "            <td>0</td>\n",
              "            <td>None</td>\n",
              "            <td>0</td>\n",
              "        </tr>\n",
              "        <tr>\n",
              "            <td>1</td>\n",
              "            <td>LastName</td>\n",
              "            <td></td>\n",
              "            <td>0</td>\n",
              "            <td>None</td>\n",
              "            <td>0</td>\n",
              "        </tr>\n",
              "        <tr>\n",
              "            <td>2</td>\n",
              "            <td>FirstName</td>\n",
              "            <td></td>\n",
              "            <td>0</td>\n",
              "            <td>None</td>\n",
              "            <td>0</td>\n",
              "        </tr>\n",
              "        <tr>\n",
              "            <td>3</td>\n",
              "            <td>Phone</td>\n",
              "            <td></td>\n",
              "            <td>0</td>\n",
              "            <td>None</td>\n",
              "            <td>0</td>\n",
              "        </tr>\n",
              "        <tr>\n",
              "            <td>4</td>\n",
              "            <td>Residence</td>\n",
              "            <td></td>\n",
              "            <td>0</td>\n",
              "            <td>None</td>\n",
              "            <td>0</td>\n",
              "        </tr>\n",
              "        <tr>\n",
              "            <td>5</td>\n",
              "            <td>Gender</td>\n",
              "            <td></td>\n",
              "            <td>0</td>\n",
              "            <td>None</td>\n",
              "            <td>0</td>\n",
              "        </tr>\n",
              "    </tbody>\n",
              "</table>"
            ],
            "text/plain": [
              "[(0, 'PersonID', '', 0, None, 0),\n",
              " (1, 'LastName', '', 0, None, 0),\n",
              " (2, 'FirstName', '', 0, None, 0),\n",
              " (3, 'Phone', '', 0, None, 0),\n",
              " (4, 'Residence', '', 0, None, 0),\n",
              " (5, 'Gender', '', 0, None, 0)]"
            ]
          },
          "metadata": {
            "tags": []
          },
          "execution_count": 20
        }
      ]
    },
    {
      "cell_type": "code",
      "metadata": {
        "colab": {
          "base_uri": "https://localhost:8080/",
          "height": 172
        },
        "id": "r_oWSqxNUaTF",
        "outputId": "30c6ad69-b9ff-44fa-d71d-010b0560ebc7"
      },
      "source": [
        "%%sql\n",
        "PRAGMA table_info(Citizens);"
      ],
      "execution_count": null,
      "outputs": [
        {
          "output_type": "stream",
          "text": [
            " * sqlite://\n",
            "Done.\n"
          ],
          "name": "stdout"
        },
        {
          "output_type": "execute_result",
          "data": {
            "text/html": [
              "<table>\n",
              "    <thead>\n",
              "        <tr>\n",
              "            <th>cid</th>\n",
              "            <th>name</th>\n",
              "            <th>type</th>\n",
              "            <th>notnull</th>\n",
              "            <th>dflt_value</th>\n",
              "            <th>pk</th>\n",
              "        </tr>\n",
              "    </thead>\n",
              "    <tbody>\n",
              "        <tr>\n",
              "            <td>0</td>\n",
              "            <td>NationalID</td>\n",
              "            <td>int</td>\n",
              "            <td>0</td>\n",
              "            <td>None</td>\n",
              "            <td>0</td>\n",
              "        </tr>\n",
              "        <tr>\n",
              "            <td>1</td>\n",
              "            <td>FirstName</td>\n",
              "            <td>varchar(255)</td>\n",
              "            <td>0</td>\n",
              "            <td>None</td>\n",
              "            <td>0</td>\n",
              "        </tr>\n",
              "        <tr>\n",
              "            <td>2</td>\n",
              "            <td>MiddleName</td>\n",
              "            <td>varchar(255)</td>\n",
              "            <td>0</td>\n",
              "            <td>None</td>\n",
              "            <td>0</td>\n",
              "        </tr>\n",
              "        <tr>\n",
              "            <td>3</td>\n",
              "            <td>PostalAddress</td>\n",
              "            <td>varchar(255)</td>\n",
              "            <td>0</td>\n",
              "            <td>None</td>\n",
              "            <td>0</td>\n",
              "        </tr>\n",
              "        <tr>\n",
              "            <td>4</td>\n",
              "            <td>Residence</td>\n",
              "            <td>varchar(255)</td>\n",
              "            <td>0</td>\n",
              "            <td>None</td>\n",
              "            <td>0</td>\n",
              "        </tr>\n",
              "    </tbody>\n",
              "</table>"
            ],
            "text/plain": [
              "[(0, 'NationalID', 'int', 0, None, 0),\n",
              " (1, 'FirstName', 'varchar(255)', 0, None, 0),\n",
              " (2, 'MiddleName', 'varchar(255)', 0, None, 0),\n",
              " (3, 'PostalAddress', 'varchar(255)', 0, None, 0),\n",
              " (4, 'Residence', 'varchar(255)', 0, None, 0)]"
            ]
          },
          "metadata": {
            "tags": []
          },
          "execution_count": 21
        }
      ]
    },
    {
      "cell_type": "code",
      "metadata": {
        "colab": {
          "base_uri": "https://localhost:8080/"
        },
        "id": "6KVNAWMPUb2J",
        "outputId": "e1e20929-bac3-45d4-d44e-06ea95436bfa"
      },
      "source": [
        "# Exemplo 2: Excluindo uma coluna\n",
        "# Para excluir uma coluna Telefone em uma tabela acima, fazemos o seguinte,\n",
        "# Em seguida, busque os registros da tabela para confirmar as alterações\n",
        "#\n",
        "%%sql \n",
        "ALTER TABLE Classmates DROP column Residence;"
      ],
      "execution_count": null,
      "outputs": [
        {
          "output_type": "stream",
          "text": [
            " * sqlite://\n",
            "(sqlite3.OperationalError) near \"DROP\": syntax error\n",
            "[SQL: ALTER TABLE Classmates DROP column Residence;]\n",
            "(Background on this error at: http://sqlalche.me/e/14/e3q8)\n"
          ],
          "name": "stdout"
        }
      ]
    },
    {
      "cell_type": "code",
      "metadata": {
        "colab": {
          "base_uri": "https://localhost:8080/"
        },
        "id": "3LGaSRZbUdpj",
        "outputId": "04d4cdcf-1708-4c8e-87f9-4069a6434068"
      },
      "source": [
        "# Exemplo 3\n",
        "# Podemos alterar o nome da tabela Classmates para Schoolmates, fazendo o seguinte,\n",
        "# Em seguida, buscar os registros da tabela para confirmar as alterações\n",
        "#\n",
        "%%sql  \n",
        "ALTER TABLE Classmates RENAME TO Schoolmates;"
      ],
      "execution_count": null,
      "outputs": [
        {
          "output_type": "stream",
          "text": [
            " * sqlite://\n",
            "Done.\n"
          ],
          "name": "stdout"
        },
        {
          "output_type": "execute_result",
          "data": {
            "text/plain": [
              "[]"
            ]
          },
          "metadata": {
            "tags": []
          },
          "execution_count": 25
        }
      ]
    },
    {
      "cell_type": "code",
      "metadata": {
        "colab": {
          "base_uri": "https://localhost:8080/",
          "height": 93
        },
        "id": "4ghO0yaCRO5F",
        "outputId": "6f4c7cd7-f90c-4b02-c048-71bea4533e2a"
      },
      "source": [
        "%%sql\n",
        "SELECT * FROM Schoolmates;"
      ],
      "execution_count": null,
      "outputs": [
        {
          "output_type": "stream",
          "text": [
            " * sqlite://\n",
            "Done.\n"
          ],
          "name": "stdout"
        },
        {
          "output_type": "execute_result",
          "data": {
            "text/html": [
              "<table>\n",
              "    <thead>\n",
              "        <tr>\n",
              "            <th>PersonID</th>\n",
              "            <th>LastName</th>\n",
              "            <th>FirstName</th>\n",
              "            <th>Phone</th>\n",
              "            <th>Residence</th>\n",
              "            <th>Gender</th>\n",
              "        </tr>\n",
              "    </thead>\n",
              "    <tbody>\n",
              "        <tr>\n",
              "            <td>123</td>\n",
              "            <td>Spain</td>\n",
              "            <td>Joel</td>\n",
              "            <td>59595959553</td>\n",
              "            <td>Parque 10</td>\n",
              "            <td>None</td>\n",
              "        </tr>\n",
              "    </tbody>\n",
              "</table>"
            ],
            "text/plain": [
              "[(123, 'Spain', 'Joel', 59595959553, 'Parque 10', None)]"
            ]
          },
          "metadata": {
            "tags": []
          },
          "execution_count": 27
        }
      ]
    },
    {
      "cell_type": "markdown",
      "metadata": {
        "id": "1llZXt15JGfx"
      },
      "source": [
        "###Dropping Table"
      ]
    },
    {
      "cell_type": "code",
      "metadata": {
        "colab": {
          "base_uri": "https://localhost:8080/"
        },
        "id": "bV6xkqqkUfVU",
        "outputId": "2c3871c1-f87e-4053-cc67-bec33075de44"
      },
      "source": [
        "# Exemplo 1\n",
        "# Podemos eliminar nossa tabela usando a instrução DROP TABLE conforme mostrado abaixo\n",
        "#\n",
        "%%sql \n",
        "DROP TABLE Schoolmates;"
      ],
      "execution_count": null,
      "outputs": [
        {
          "output_type": "stream",
          "text": [
            " * sqlite://\n",
            "Done.\n"
          ],
          "name": "stdout"
        },
        {
          "output_type": "execute_result",
          "data": {
            "text/plain": [
              "[]"
            ]
          },
          "metadata": {
            "tags": []
          },
          "execution_count": 29
        }
      ]
    },
    {
      "cell_type": "code",
      "metadata": {
        "colab": {
          "base_uri": "https://localhost:8080/"
        },
        "id": "gnURK3edUhOK",
        "outputId": "50c98459-756d-4e18-9d1f-6330a9312d29"
      },
      "source": [
        "# Exemplo 2\n",
        "# E finalmente truncar e remover nossa tabela de Citizens de nosso banco de dados\n",
        "#\n",
        "%%sql\n",
        "DELETE from  Citizens;"
      ],
      "execution_count": null,
      "outputs": [
        {
          "output_type": "stream",
          "text": [
            " * sqlite://\n",
            "0 rows affected.\n"
          ],
          "name": "stdout"
        },
        {
          "output_type": "execute_result",
          "data": {
            "text/plain": [
              "[]"
            ]
          },
          "metadata": {
            "tags": []
          },
          "execution_count": 35
        }
      ]
    },
    {
      "cell_type": "code",
      "metadata": {
        "colab": {
          "base_uri": "https://localhost:8080/",
          "height": 73
        },
        "id": "LIcpSTLaRrgP",
        "outputId": "5ea57ee8-e49e-4767-8cf4-068fdd982085"
      },
      "source": [
        "%%sql\n",
        "SELECT * FROM Citizens;"
      ],
      "execution_count": null,
      "outputs": [
        {
          "output_type": "stream",
          "text": [
            " * sqlite://\n",
            "Done.\n"
          ],
          "name": "stdout"
        },
        {
          "output_type": "execute_result",
          "data": {
            "text/html": [
              "<table>\n",
              "    <thead>\n",
              "        <tr>\n",
              "            <th>NationalID</th>\n",
              "            <th>FirstName</th>\n",
              "            <th>MiddleName</th>\n",
              "            <th>PostalAddress</th>\n",
              "            <th>Residence</th>\n",
              "        </tr>\n",
              "    </thead>\n",
              "    <tbody>\n",
              "    </tbody>\n",
              "</table>"
            ],
            "text/plain": [
              "[]"
            ]
          },
          "metadata": {
            "tags": []
          },
          "execution_count": 34
        }
      ]
    },
    {
      "cell_type": "code",
      "metadata": {
        "id": "dHwDOPhmNbP2"
      },
      "source": [
        "# Desafio 1\n",
        "# Vamos retirar a tabela de Customers de nosso banco de dados\n",
        "#"
      ],
      "execution_count": null,
      "outputs": []
    },
    {
      "cell_type": "markdown",
      "metadata": {
        "id": "PoTLmmvJTkw6"
      },
      "source": [
        "### Introdução a Busca no Banco de Dados"
      ]
    },
    {
      "cell_type": "code",
      "metadata": {
        "colab": {
          "base_uri": "https://localhost:8080/",
          "height": 73
        },
        "id": "J7zP44JsUUHI",
        "outputId": "b181260d-1d6e-459a-a2a4-2ffe7ddc1991"
      },
      "source": [
        "%%sql\n",
        "SELECT FirstName,MiddleName from Citizens"
      ],
      "execution_count": null,
      "outputs": [
        {
          "output_type": "stream",
          "text": [
            " * sqlite://\n",
            "Done.\n"
          ],
          "name": "stdout"
        },
        {
          "output_type": "execute_result",
          "data": {
            "text/html": [
              "<table>\n",
              "    <thead>\n",
              "        <tr>\n",
              "            <th>FirstName</th>\n",
              "            <th>MiddleName</th>\n",
              "        </tr>\n",
              "    </thead>\n",
              "    <tbody>\n",
              "    </tbody>\n",
              "</table>"
            ],
            "text/plain": [
              "[]"
            ]
          },
          "metadata": {
            "tags": []
          },
          "execution_count": 37
        }
      ]
    },
    {
      "cell_type": "code",
      "metadata": {
        "id": "lXSCQTdgSAsv"
      },
      "source": [
        ""
      ],
      "execution_count": null,
      "outputs": []
    }
  ]
}